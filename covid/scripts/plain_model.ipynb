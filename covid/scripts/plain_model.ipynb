{
 "cells": [
  {
   "cell_type": "markdown",
   "metadata": {},
   "source": [
    "## TOC\n",
    " 1. load data and libs \n",
    " 2. preprocessing data [jump](#prepros)\n",
    "     1. transform data to daily deaths (not cumulated)\n",
    "     2. split test/train\n",
    "     3. scale data\n",
    "     4. create sequences of x days\n",
    "     5. convert data to torch vectors/tensors\n",
    " 3. build model [jump](#build)\n",
    " 4. train model [jump](#train)\n",
    " 5. validate model [jump](#vali)\n",
    " 6. make prediction [jump](#pred)"
   ]
  },
  {
   "cell_type": "markdown",
   "metadata": {},
   "source": [
    "## 1. load data and libs"
   ]
  },
  {
   "cell_type": "code",
   "execution_count": 1,
   "metadata": {
    "ExecuteTime": {
     "end_time": "2020-07-14T13:05:41.867720Z",
     "start_time": "2020-07-14T13:05:37.224904Z"
    }
   },
   "outputs": [],
   "source": [
    "import torch\n",
    "from torch import optim, nn\n",
    "\n",
    "torch.manual_seed(1)\n",
    "\n",
    "import numpy as np\n",
    "import pandas as pd\n",
    "\n",
    "from sklearn.preprocessing import MinMaxScaler\n",
    "\n",
    "import mlflow\n",
    "\n",
    "import time"
   ]
  },
  {
   "cell_type": "code",
   "execution_count": null,
   "metadata": {},
   "outputs": [],
   "source": [
    "## model config\n",
    "    #TODO\n"
   ]
  },
  {
   "cell_type": "code",
   "execution_count": 2,
   "metadata": {
    "ExecuteTime": {
     "end_time": "2020-07-14T13:05:41.917257Z",
     "start_time": "2020-07-14T13:05:41.871331Z"
    }
   },
   "outputs": [],
   "source": [
    "file_cases = \"../01_data/covid_time_series_cases_transformed.csv\"\n",
    "file_deaths = \"../01_data/covid_time_series_deaths_transformed.csv\"\n",
    "\n",
    "\n",
    "ts_cases = pd.read_csv(file_cases, index_col=0)\n",
    "ts_deaths = pd.read_csv(file_deaths, index_col=0)"
   ]
  },
  {
   "cell_type": "code",
   "execution_count": 3,
   "metadata": {
    "ExecuteTime": {
     "end_time": "2020-07-14T13:05:41.995162Z",
     "start_time": "2020-07-14T13:05:41.929077Z"
    }
   },
   "outputs": [
    {
     "data": {
      "text/html": [
       "<div>\n",
       "<style scoped>\n",
       "    .dataframe tbody tr th:only-of-type {\n",
       "        vertical-align: middle;\n",
       "    }\n",
       "\n",
       "    .dataframe tbody tr th {\n",
       "        vertical-align: top;\n",
       "    }\n",
       "\n",
       "    .dataframe thead th {\n",
       "        text-align: right;\n",
       "    }\n",
       "</style>\n",
       "<table border=\"1\" class=\"dataframe\">\n",
       "  <thead>\n",
       "    <tr style=\"text-align: right;\">\n",
       "      <th></th>\n",
       "      <th>deaths</th>\n",
       "    </tr>\n",
       "  </thead>\n",
       "  <tbody>\n",
       "    <tr>\n",
       "      <th>2020-01-22</th>\n",
       "      <td>0</td>\n",
       "    </tr>\n",
       "    <tr>\n",
       "      <th>2020-01-23</th>\n",
       "      <td>0</td>\n",
       "    </tr>\n",
       "    <tr>\n",
       "      <th>2020-01-24</th>\n",
       "      <td>0</td>\n",
       "    </tr>\n",
       "    <tr>\n",
       "      <th>2020-01-25</th>\n",
       "      <td>0</td>\n",
       "    </tr>\n",
       "    <tr>\n",
       "      <th>2020-01-26</th>\n",
       "      <td>0</td>\n",
       "    </tr>\n",
       "    <tr>\n",
       "      <th>...</th>\n",
       "      <td>...</td>\n",
       "    </tr>\n",
       "    <tr>\n",
       "      <th>2020-06-25</th>\n",
       "      <td>8940</td>\n",
       "    </tr>\n",
       "    <tr>\n",
       "      <th>2020-06-26</th>\n",
       "      <td>8965</td>\n",
       "    </tr>\n",
       "    <tr>\n",
       "      <th>2020-06-27</th>\n",
       "      <td>8968</td>\n",
       "    </tr>\n",
       "    <tr>\n",
       "      <th>2020-06-28</th>\n",
       "      <td>8968</td>\n",
       "    </tr>\n",
       "    <tr>\n",
       "      <th>2020-06-29</th>\n",
       "      <td>8976</td>\n",
       "    </tr>\n",
       "  </tbody>\n",
       "</table>\n",
       "<p>160 rows × 1 columns</p>\n",
       "</div>"
      ],
      "text/plain": [
       "            deaths\n",
       "2020-01-22       0\n",
       "2020-01-23       0\n",
       "2020-01-24       0\n",
       "2020-01-25       0\n",
       "2020-01-26       0\n",
       "...            ...\n",
       "2020-06-25    8940\n",
       "2020-06-26    8965\n",
       "2020-06-27    8968\n",
       "2020-06-28    8968\n",
       "2020-06-29    8976\n",
       "\n",
       "[160 rows x 1 columns]"
      ]
     },
     "execution_count": 3,
     "metadata": {},
     "output_type": "execute_result"
    }
   ],
   "source": [
    "ts_deaths"
   ]
  },
  {
   "cell_type": "markdown",
   "metadata": {},
   "source": [
    "## 2. preprocessing test <a id=\"prepros\"></a>"
   ]
  },
  {
   "cell_type": "markdown",
   "metadata": {},
   "source": [
    "### 2.a transform data to daily deaths (not cumulated)"
   ]
  },
  {
   "cell_type": "code",
   "execution_count": 4,
   "metadata": {
    "ExecuteTime": {
     "end_time": "2020-07-14T13:05:42.031527Z",
     "start_time": "2020-07-14T13:05:42.012368Z"
    }
   },
   "outputs": [],
   "source": [
    "ts_deaths_diff = ts_deaths.diff()"
   ]
  },
  {
   "cell_type": "code",
   "execution_count": 5,
   "metadata": {
    "ExecuteTime": {
     "end_time": "2020-07-14T13:05:42.061395Z",
     "start_time": "2020-07-14T13:05:42.042265Z"
    }
   },
   "outputs": [
    {
     "data": {
      "text/html": [
       "<div>\n",
       "<style scoped>\n",
       "    .dataframe tbody tr th:only-of-type {\n",
       "        vertical-align: middle;\n",
       "    }\n",
       "\n",
       "    .dataframe tbody tr th {\n",
       "        vertical-align: top;\n",
       "    }\n",
       "\n",
       "    .dataframe thead th {\n",
       "        text-align: right;\n",
       "    }\n",
       "</style>\n",
       "<table border=\"1\" class=\"dataframe\">\n",
       "  <thead>\n",
       "    <tr style=\"text-align: right;\">\n",
       "      <th></th>\n",
       "      <th>deaths</th>\n",
       "    </tr>\n",
       "  </thead>\n",
       "  <tbody>\n",
       "    <tr>\n",
       "      <th>2020-01-22</th>\n",
       "      <td>NaN</td>\n",
       "    </tr>\n",
       "    <tr>\n",
       "      <th>2020-01-23</th>\n",
       "      <td>0.0</td>\n",
       "    </tr>\n",
       "    <tr>\n",
       "      <th>2020-01-24</th>\n",
       "      <td>0.0</td>\n",
       "    </tr>\n",
       "    <tr>\n",
       "      <th>2020-01-25</th>\n",
       "      <td>0.0</td>\n",
       "    </tr>\n",
       "    <tr>\n",
       "      <th>2020-01-26</th>\n",
       "      <td>0.0</td>\n",
       "    </tr>\n",
       "    <tr>\n",
       "      <th>...</th>\n",
       "      <td>...</td>\n",
       "    </tr>\n",
       "    <tr>\n",
       "      <th>2020-06-25</th>\n",
       "      <td>12.0</td>\n",
       "    </tr>\n",
       "    <tr>\n",
       "      <th>2020-06-26</th>\n",
       "      <td>25.0</td>\n",
       "    </tr>\n",
       "    <tr>\n",
       "      <th>2020-06-27</th>\n",
       "      <td>3.0</td>\n",
       "    </tr>\n",
       "    <tr>\n",
       "      <th>2020-06-28</th>\n",
       "      <td>0.0</td>\n",
       "    </tr>\n",
       "    <tr>\n",
       "      <th>2020-06-29</th>\n",
       "      <td>8.0</td>\n",
       "    </tr>\n",
       "  </tbody>\n",
       "</table>\n",
       "<p>160 rows × 1 columns</p>\n",
       "</div>"
      ],
      "text/plain": [
       "            deaths\n",
       "2020-01-22     NaN\n",
       "2020-01-23     0.0\n",
       "2020-01-24     0.0\n",
       "2020-01-25     0.0\n",
       "2020-01-26     0.0\n",
       "...            ...\n",
       "2020-06-25    12.0\n",
       "2020-06-26    25.0\n",
       "2020-06-27     3.0\n",
       "2020-06-28     0.0\n",
       "2020-06-29     8.0\n",
       "\n",
       "[160 rows x 1 columns]"
      ]
     },
     "execution_count": 5,
     "metadata": {},
     "output_type": "execute_result"
    }
   ],
   "source": [
    "ts_deaths_diff"
   ]
  },
  {
   "cell_type": "code",
   "execution_count": 6,
   "metadata": {
    "ExecuteTime": {
     "end_time": "2020-07-14T13:05:42.077470Z",
     "start_time": "2020-07-14T13:05:42.070324Z"
    }
   },
   "outputs": [],
   "source": [
    "ts_deaths_diff = ts_deaths_diff.fillna(0)"
   ]
  },
  {
   "cell_type": "code",
   "execution_count": 7,
   "metadata": {
    "ExecuteTime": {
     "end_time": "2020-07-14T13:05:43.126737Z",
     "start_time": "2020-07-14T13:05:42.104210Z"
    }
   },
   "outputs": [
    {
     "data": {
      "text/plain": [
       "<matplotlib.axes._subplots.AxesSubplot at 0x7fde8ca8bf50>"
      ]
     },
     "execution_count": 7,
     "metadata": {},
     "output_type": "execute_result"
    },
    {
     "data": {
      "image/png": "[encoded data removed]",
      "text/plain": [
       "<Figure size 720x360 with 1 Axes>"
      ]
     },
     "metadata": {
      "needs_background": "light"
     },
     "output_type": "display_data"
    }
   ],
   "source": [
    "ts_deaths_diff.plot(figsize=(10,5))"
   ]
  },
  {
   "cell_type": "markdown",
   "metadata": {},
   "source": [
    "### 2.b train test split"
   ]
  },
  {
   "cell_type": "code",
   "execution_count": 8,
   "metadata": {
    "ExecuteTime": {
     "end_time": "2020-07-14T13:05:43.179178Z",
     "start_time": "2020-07-14T13:05:43.164126Z"
    }
   },
   "outputs": [
    {
     "data": {
      "text/plain": [
       "(160, 1)"
      ]
     },
     "execution_count": 8,
     "metadata": {},
     "output_type": "execute_result"
    }
   ],
   "source": [
    "ts_deaths_diff.shape ## ts of 160 records split into 90%/10% train/test parts"
   ]
  },
  {
   "cell_type": "code",
   "execution_count": 9,
   "metadata": {
    "ExecuteTime": {
     "end_time": "2020-07-14T13:05:43.213111Z",
     "start_time": "2020-07-14T13:05:43.196170Z"
    }
   },
   "outputs": [],
   "source": [
    "train_size = int(len(ts_deaths_diff) * 0.9) # 144 records for training and 16 for validation"
   ]
  },
  {
   "cell_type": "code",
   "execution_count": 10,
   "metadata": {
    "ExecuteTime": {
     "end_time": "2020-07-14T13:05:43.249784Z",
     "start_time": "2020-07-14T13:05:43.231385Z"
    }
   },
   "outputs": [],
   "source": [
    "train = ts_deaths_diff.iloc[:train_size]\n",
    "test = ts_deaths_diff.iloc[train_size:]"
   ]
  },
  {
   "cell_type": "code",
   "execution_count": 11,
   "metadata": {
    "ExecuteTime": {
     "end_time": "2020-07-14T13:05:43.283725Z",
     "start_time": "2020-07-14T13:05:43.257861Z"
    }
   },
   "outputs": [
    {
     "data": {
      "text/plain": [
       "(144, 1)"
      ]
     },
     "execution_count": 11,
     "metadata": {},
     "output_type": "execute_result"
    }
   ],
   "source": [
    "train.shape"
   ]
  },
  {
   "cell_type": "code",
   "execution_count": 12,
   "metadata": {
    "ExecuteTime": {
     "end_time": "2020-07-14T13:05:43.309757Z",
     "start_time": "2020-07-14T13:05:43.291645Z"
    }
   },
   "outputs": [
    {
     "data": {
      "text/plain": [
       "(16, 1)"
      ]
     },
     "execution_count": 12,
     "metadata": {},
     "output_type": "execute_result"
    }
   ],
   "source": [
    "test.shape"
   ]
  },
  {
   "cell_type": "markdown",
   "metadata": {},
   "source": [
    "### 2.c scale data"
   ]
  },
  {
   "cell_type": "code",
   "execution_count": 13,
   "metadata": {
    "ExecuteTime": {
     "end_time": "2020-07-14T13:05:43.340847Z",
     "start_time": "2020-07-14T13:05:43.321057Z"
    }
   },
   "outputs": [],
   "source": [
    "scaler = MinMaxScaler()\n",
    "\n",
    "scaler = scaler.fit(train)"
   ]
  },
  {
   "cell_type": "code",
   "execution_count": 14,
   "metadata": {
    "ExecuteTime": {
     "end_time": "2020-07-14T13:05:43.377080Z",
     "start_time": "2020-07-14T13:05:43.349180Z"
    }
   },
   "outputs": [
    {
     "data": {
      "text/plain": [
       "array([[0.05730129],\n",
       "       [0.05730129],\n",
       "       [0.05730129],\n",
       "       [0.05730129],\n",
       "       [0.05730129],\n",
       "       [0.05730129],\n",
       "       [0.05730129],\n",
       "       [0.05730129],\n",
       "       [0.05730129],\n",
       "       [0.05730129],\n",
       "       [0.05730129],\n",
       "       [0.05730129],\n",
       "       [0.05730129],\n",
       "       [0.05730129],\n",
       "       [0.05730129],\n",
       "       [0.05730129],\n",
       "       [0.05730129],\n",
       "       [0.05730129],\n",
       "       [0.05730129],\n",
       "       [0.05730129],\n",
       "       [0.05730129],\n",
       "       [0.05730129],\n",
       "       [0.05730129],\n",
       "       [0.05730129],\n",
       "       [0.05730129],\n",
       "       [0.05730129],\n",
       "       [0.05730129],\n",
       "       [0.05730129],\n",
       "       [0.05730129],\n",
       "       [0.05730129],\n",
       "       [0.05730129],\n",
       "       [0.05730129],\n",
       "       [0.05730129],\n",
       "       [0.05730129],\n",
       "       [0.05730129],\n",
       "       [0.05730129],\n",
       "       [0.05730129],\n",
       "       [0.05730129],\n",
       "       [0.05730129],\n",
       "       [0.05730129],\n",
       "       [0.05730129],\n",
       "       [0.05730129],\n",
       "       [0.05730129],\n",
       "       [0.05730129],\n",
       "       [0.05730129],\n",
       "       [0.05730129],\n",
       "       [0.05730129],\n",
       "       [0.06099815],\n",
       "       [0.05730129],\n",
       "       [0.05914972],\n",
       "       [0.05730129],\n",
       "       [0.06469501],\n",
       "       [0.06099815],\n",
       "       [0.06099815],\n",
       "       [0.06839187],\n",
       "       [0.0702403 ],\n",
       "       [0.06469501],\n",
       "       [0.08687616],\n",
       "       [0.09981516],\n",
       "       [0.08872458],\n",
       "       [0.07578558],\n",
       "       [0.11090573],\n",
       "       [0.12014787],\n",
       "       [0.14787431],\n",
       "       [0.17005545],\n",
       "       [0.19593346],\n",
       "       [0.22550832],\n",
       "       [0.24214418],\n",
       "       [0.26432532],\n",
       "       [0.29759704],\n",
       "       [0.32532348],\n",
       "       [0.40295749],\n",
       "       [0.36783734],\n",
       "       [0.36968577],\n",
       "       [0.31608133],\n",
       "       [0.47504621],\n",
       "       [0.43807763],\n",
       "       [0.6728281 ],\n",
       "       [0.53419593],\n",
       "       [0.35304991],\n",
       "       [0.        ],\n",
       "       [0.58595194],\n",
       "       [0.37523105],\n",
       "       [0.24214418],\n",
       "       [1.        ],\n",
       "       [0.51571165],\n",
       "       [0.61182994],\n",
       "       [0.25508318],\n",
       "       [0.29205176],\n",
       "       [0.56746765],\n",
       "       [0.37338262],\n",
       "       [0.51201479],\n",
       "       [0.60443623],\n",
       "       [0.39926063],\n",
       "       [0.27356747],\n",
       "       [0.24029575],\n",
       "       [0.33456562],\n",
       "       [0.40480591],\n",
       "       [0.34011091],\n",
       "       [0.34565619],\n",
       "       [0.26617375],\n",
       "       [0.19778189],\n",
       "       [0.15711645],\n",
       "       [0.29205176],\n",
       "       [0.05730129],\n",
       "       [0.57855823],\n",
       "       [0.27356747],\n",
       "       [0.2754159 ],\n",
       "       [0.12939002],\n",
       "       [0.09426987],\n",
       "       [0.22735675],\n",
       "       [0.19963031],\n",
       "       [0.28465804],\n",
       "       [0.09981516],\n",
       "       [0.08133087],\n",
       "       [0.13308688],\n",
       "       [0.10166359],\n",
       "       [0.13308688],\n",
       "       [0.20147874],\n",
       "       [0.17375231],\n",
       "       [0.1663586 ],\n",
       "       [0.10351201],\n",
       "       [0.11829945],\n",
       "       [0.09796673],\n",
       "       [0.10536044],\n",
       "       [0.17375231],\n",
       "       [0.16081331],\n",
       "       [0.1349353 ],\n",
       "       [0.12014787],\n",
       "       [0.10536044],\n",
       "       [0.07578558],\n",
       "       [0.08502773],\n",
       "       [0.07208872],\n",
       "       [0.12939002],\n",
       "       [0.11829945],\n",
       "       [0.09981516],\n",
       "       [0.08502773],\n",
       "       [0.07948244],\n",
       "       [0.07578558],\n",
       "       [0.13308688],\n",
       "       [0.08687616],\n",
       "       [0.09426987],\n",
       "       [0.07763401],\n",
       "       [0.07578558]])"
      ]
     },
     "execution_count": 14,
     "metadata": {},
     "output_type": "execute_result"
    }
   ],
   "source": [
    "scaler.transform(train)"
   ]
  },
  {
   "cell_type": "code",
   "execution_count": 15,
   "metadata": {
    "ExecuteTime": {
     "end_time": "2020-07-14T13:05:43.392181Z",
     "start_time": "2020-07-14T13:05:43.381593Z"
    }
   },
   "outputs": [],
   "source": [
    "train_scaled = scaler.transform(train) \n",
    "test_scaled = scaler.transform(test) "
   ]
  },
  {
   "cell_type": "code",
   "execution_count": 16,
   "metadata": {
    "ExecuteTime": {
     "end_time": "2020-07-14T13:05:43.424697Z",
     "start_time": "2020-07-14T13:05:43.397037Z"
    }
   },
   "outputs": [
    {
     "name": "stdout",
     "output_type": "stream",
     "text": [
      "train min 0.0\n",
      "train max 0.9999999999999999\n",
      "train std 0.16501537475159747\n",
      "test min 0.05730129390018484\n",
      "test max 0.11460258780036968\n",
      "test std 0.01600744640935093\n"
     ]
    }
   ],
   "source": [
    "print(\"train min\", train_scaled.min())\n",
    "print(\"train max\", train_scaled.max())\n",
    "print(\"train std\", train_scaled.std())\n",
    "\n",
    "print(\"test min\", test_scaled.min())\n",
    "print(\"test max\", test_scaled.max())\n",
    "print(\"test std\", test_scaled.std())\n"
   ]
  },
  {
   "cell_type": "markdown",
   "metadata": {},
   "source": [
    "### 2.d create sequences of x days"
   ]
  },
  {
   "cell_type": "code",
   "execution_count": 17,
   "metadata": {
    "ExecuteTime": {
     "end_time": "2020-07-14T13:05:43.452597Z",
     "start_time": "2020-07-14T13:05:43.441817Z"
    }
   },
   "outputs": [],
   "source": [
    "def create_sequences(data, TIME_STEPS):\n",
    "    X_sequences, Y_sequences = [], []\n",
    "\n",
    "    for i in range(len(data) - TIME_STEPS):\n",
    "        seq_x = data[i: (i + TIME_STEPS)]\n",
    "        seq_y = data[i + TIME_STEPS]\n",
    "\n",
    "        X_sequences.append(seq_x)\n",
    "        Y_sequences.append(seq_y)\n",
    "\n",
    "    return np.array(X_sequences), np.array(Y_sequences)"
   ]
  },
  {
   "cell_type": "code",
   "execution_count": 18,
   "metadata": {
    "ExecuteTime": {
     "end_time": "2020-07-14T13:05:43.474170Z",
     "start_time": "2020-07-14T13:05:43.461389Z"
    }
   },
   "outputs": [],
   "source": [
    "time_steps = 10\n",
    "\n",
    "train_seq_x, train_seq_y = create_sequences(train_scaled, time_steps)\n",
    "test_seq_x, test_seq_y = create_sequences(test_scaled, time_steps)"
   ]
  },
  {
   "cell_type": "code",
   "execution_count": 19,
   "metadata": {
    "ExecuteTime": {
     "end_time": "2020-07-14T13:05:43.495135Z",
     "start_time": "2020-07-14T13:05:43.480700Z"
    }
   },
   "outputs": [
    {
     "data": {
      "text/plain": [
       "array([[[0.07208872],\n",
       "        [0.12939002],\n",
       "        [0.11829945],\n",
       "        [0.09981516],\n",
       "        [0.08502773],\n",
       "        [0.07948244],\n",
       "        [0.07578558],\n",
       "        [0.13308688],\n",
       "        [0.08687616],\n",
       "        [0.09426987]],\n",
       "\n",
       "       [[0.12939002],\n",
       "        [0.11829945],\n",
       "        [0.09981516],\n",
       "        [0.08502773],\n",
       "        [0.07948244],\n",
       "        [0.07578558],\n",
       "        [0.13308688],\n",
       "        [0.08687616],\n",
       "        [0.09426987],\n",
       "        [0.07763401]]])"
      ]
     },
     "metadata": {},
     "output_type": "display_data"
    }
   ],
   "source": [
    "display(train_seq_x[-2:])"
   ]
  },
  {
   "cell_type": "code",
   "execution_count": 20,
   "metadata": {
    "ExecuteTime": {
     "end_time": "2020-07-14T13:05:43.518153Z",
     "start_time": "2020-07-14T13:05:43.501623Z"
    }
   },
   "outputs": [
    {
     "data": {
      "text/plain": [
       "array([[0.07763401],\n",
       "       [0.07578558]])"
      ]
     },
     "metadata": {},
     "output_type": "display_data"
    }
   ],
   "source": [
    "display(train_seq_y[-2:])"
   ]
  },
  {
   "cell_type": "code",
   "execution_count": 21,
   "metadata": {
    "ExecuteTime": {
     "end_time": "2020-07-14T13:05:43.541220Z",
     "start_time": "2020-07-14T13:05:43.523639Z"
    }
   },
   "outputs": [
    {
     "data": {
      "text/plain": [
       "((134, 1), (134, 10, 1))"
      ]
     },
     "execution_count": 21,
     "metadata": {},
     "output_type": "execute_result"
    }
   ],
   "source": [
    "train_seq_y.shape, train_seq_x.shape"
   ]
  },
  {
   "cell_type": "code",
   "execution_count": 22,
   "metadata": {
    "ExecuteTime": {
     "end_time": "2020-07-14T13:05:43.562779Z",
     "start_time": "2020-07-14T13:05:43.548149Z"
    }
   },
   "outputs": [
    {
     "data": {
      "text/plain": [
       "((6, 1), (6, 10, 1))"
      ]
     },
     "execution_count": 22,
     "metadata": {},
     "output_type": "execute_result"
    }
   ],
   "source": [
    "test_seq_y.shape, test_seq_x.shape"
   ]
  },
  {
   "cell_type": "markdown",
   "metadata": {},
   "source": [
    "### 2.e convert data to torch vectors/tensors"
   ]
  },
  {
   "cell_type": "code",
   "execution_count": 23,
   "metadata": {
    "ExecuteTime": {
     "end_time": "2020-07-14T13:05:43.640490Z",
     "start_time": "2020-07-14T13:05:43.630172Z"
    }
   },
   "outputs": [],
   "source": [
    "x_train = torch.from_numpy(train_seq_x).float()\n",
    "y_train = torch.from_numpy(train_seq_y).float()\n",
    "\n",
    "x_test = torch.from_numpy(test_seq_x).float()\n",
    "y_test = torch.from_numpy(test_seq_y).float()"
   ]
  },
  {
   "cell_type": "code",
   "execution_count": 24,
   "metadata": {
    "ExecuteTime": {
     "end_time": "2020-07-14T13:05:43.662872Z",
     "start_time": "2020-07-14T13:05:43.644433Z"
    }
   },
   "outputs": [
    {
     "data": {
      "text/plain": [
       "torch.Size([134, 10, 1])"
      ]
     },
     "execution_count": 24,
     "metadata": {},
     "output_type": "execute_result"
    }
   ],
   "source": [
    "x_train.shape"
   ]
  },
  {
   "cell_type": "markdown",
   "metadata": {
    "heading_collapsed": true
   },
   "source": [
    "## 3. build model <a id=\"build\"></a>- blueprint pytorch: [LSTMtagger Tutorial](https://pytorch.org/tutorials/beginner/nlp/sequence_models_tutorial.html)"
   ]
  },
  {
   "cell_type": "code",
   "execution_count": 25,
   "metadata": {
    "ExecuteTime": {
     "end_time": "2020-07-14T13:05:43.698418Z",
     "start_time": "2020-07-14T13:05:43.666800Z"
    },
    "hidden": true
   },
   "outputs": [],
   "source": [
    "class CoronaDeathsPredictor(nn.Module):\n",
    "    \n",
    "    def __init__(self, n_features, n_hidden, seq_len, n_layers):\n",
    "        super(CoronaDeathsPredictor, self).__init__()\n",
    "        \n",
    "        self.n_features = n_features\n",
    "        self.n_hidden = n_hidden\n",
    "        self.seq_len = seq_len\n",
    "        self.n_layers = n_layers\n",
    "        \n",
    "        dropout_ratio = 0.5\n",
    "        \n",
    "        self.lstm = nn.LSTM(input_size = self.n_features,\n",
    "                            hidden_size = self.n_hidden,\n",
    "                            num_layers = self.n_layers,\n",
    "                           dropout=dropout_ratio)\n",
    "        \n",
    "        ## define output layer.\n",
    "        ## in this case we want to predict the deaths on the next day, \n",
    "        ## based on the deaths of the last n days (sequence).\n",
    "        ## for this we need a linear layer after the LSTM operations to aggregate the\n",
    "        ## hidden state outputs\n",
    "        \n",
    "        self.linear = nn.Linear(in_features = n_hidden, out_features = 1)\n",
    "        \n",
    "    \n",
    "    ## after each step we will reset the hidden states, because this model predicts only\n",
    "    ## death numbers based on the sequence of n days.\n",
    "    \n",
    "    ## to make this model \"stateless\"\n",
    "    def reset_hidden_state(self):\n",
    "        \n",
    "        reset_hidden_states = torch.zeros(self.n_layers, self.seq_len, self.n_hidden)\n",
    "        \n",
    "        self.hidden = (reset_hidden_states, reset_hidden_states)\n",
    "        \n",
    "    \n",
    "    \n",
    "    def forward(self, model_input):\n",
    "        \n",
    "        ## pass input sequence and hidden states to the lstm model \n",
    "        lstm_out, self.hidden = self.lstm(\n",
    "            model_input.view(len(model_input), self.seq_len, -1),\n",
    "            self.hidden\n",
    "        )\n",
    "        \n",
    "        ## pass result to the linear layer\n",
    "        y_pred = self.linear(\n",
    "            lstm_out.view(self.seq_len, len(model_input), self.n_hidden)[-1] # take the last value of pred\n",
    "        )\n",
    "        \n",
    "        return y_pred\n",
    "        \n",
    "        \n"
   ]
  },
  {
   "cell_type": "markdown",
   "metadata": {
    "heading_collapsed": true
   },
   "source": [
    "## 4. train model <a id=\"train\"></a>"
   ]
  },
  {
   "cell_type": "code",
   "execution_count": 26,
   "metadata": {
    "ExecuteTime": {
     "end_time": "2020-07-14T13:06:40.847472Z",
     "start_time": "2020-07-14T13:05:43.705787Z"
    },
    "hidden": true
   },
   "outputs": [
    {
     "name": "stdout",
     "output_type": "stream",
     "text": [
      "Epoch: 0 - loss on train: 7.198997974395752 - loss on test: 0.02060745097696781\n",
      "Epoch: 10 - loss on train: 3.933199405670166 - loss on test: 0.030426668003201485\n",
      "Epoch: 20 - loss on train: 3.77896785736084 - loss on test: 0.06761600077152252\n"
     ]
    }
   ],
   "source": [
    "experiment_start = time.time()\n",
    "\n",
    "    \n",
    "model = CoronaDeathsPredictor(\n",
    "      n_features=1, \n",
    "      n_hidden=512, \n",
    "      seq_len=time_steps, \n",
    "      n_layers=2\n",
    ")\n",
    "\n",
    "f_loss = nn.MSELoss(reduction=\"sum\")\n",
    "optimizer = optim.Adam(model.parameters(), lr=1e-3)\n",
    "n_epochs = 30\n",
    "\n",
    "hist_train = np.zeros(n_epochs)\n",
    "hist_test = np.zeros(n_epochs)\n",
    "\n",
    "for epoch in range(n_epochs):\n",
    "\n",
    "    # optional\n",
    "    model.reset_hidden_state()\n",
    "\n",
    "    y_pred = model(x_train)\n",
    "\n",
    "    loss_train = f_loss(y_pred.float(), y_train)\n",
    "\n",
    "    ## valdiation on test data. no change on gradients needed, so:\n",
    "    with torch.no_grad():\n",
    "        y_test_pred = model(x_test)\n",
    "        loss_test = f_loss(y_test_pred.float(), y_test)\n",
    "\n",
    "    hist_test[epoch] = loss_test.item()\n",
    "    hist_train[epoch] = loss_train.item()\n",
    "\n",
    "\n",
    "    ##print results every 10 epochs\n",
    "    if(epoch % 10 == 0):\n",
    "        echo = \"Epoch: {epoch} - loss on train: {loss_train} - loss on test: {loss_test}\".format(\n",
    "                epoch=epoch,\n",
    "                loss_train=loss_train.item(),\n",
    "                loss_test=loss_test.item())\n",
    "\n",
    "        print(echo)\n",
    "\n",
    "\n",
    "    # reset the optim gradients\n",
    "    optimizer.zero_grad()\n",
    "\n",
    "    # reset loss value\n",
    "    loss_train.backward()\n",
    "\n",
    "    optimizer.step()\n",
    "\n",
    "experiment_end = time.time()\n",
    "\n"
   ]
  },
  {
   "cell_type": "markdown",
   "metadata": {
    "heading_collapsed": true
   },
   "source": [
    "## 5. validate model <a id=\"vali\"></a>"
   ]
  },
  {
   "cell_type": "code",
   "execution_count": 27,
   "metadata": {
    "ExecuteTime": {
     "end_time": "2020-07-14T13:06:40.867788Z",
     "start_time": "2020-07-14T13:06:40.850289Z"
    },
    "hidden": true
   },
   "outputs": [
    {
     "data": {
      "text/plain": [
       "CoronaDeathsPredictor(\n",
       "  (lstm): LSTM(1, 512, num_layers=2, dropout=0.5)\n",
       "  (linear): Linear(in_features=512, out_features=1, bias=True)\n",
       ")"
      ]
     },
     "execution_count": 27,
     "metadata": {},
     "output_type": "execute_result"
    }
   ],
   "source": [
    "model.eval()\n"
   ]
  },
  {
   "cell_type": "code",
   "execution_count": 28,
   "metadata": {
    "ExecuteTime": {
     "end_time": "2020-07-14T13:06:40.915157Z",
     "start_time": "2020-07-14T13:06:40.876145Z"
    },
    "hidden": true
   },
   "outputs": [],
   "source": [
    "hist = pd.DataFrame(data={\"train_loss\": hist_train, \"test_loss\": hist_test})"
   ]
  },
  {
   "cell_type": "code",
   "execution_count": 29,
   "metadata": {
    "ExecuteTime": {
     "end_time": "2020-07-14T13:06:41.340541Z",
     "start_time": "2020-07-14T13:06:40.933272Z"
    },
    "hidden": true
   },
   "outputs": [
    {
     "data": {
      "text/plain": [
       "<matplotlib.axes._subplots.AxesSubplot at 0x7fde8d086c50>"
      ]
     },
     "execution_count": 29,
     "metadata": {},
     "output_type": "execute_result"
    },
    {
     "data": {
      "image/png": "[encoded data removed]",
      "text/plain": [
       "<Figure size 432x288 with 1 Axes>"
      ]
     },
     "metadata": {
      "needs_background": "light"
     },
     "output_type": "display_data"
    }
   ],
   "source": [
    "hist.plot(title=\"train and test loss\")"
   ]
  },
  {
   "cell_type": "code",
   "execution_count": 30,
   "metadata": {
    "ExecuteTime": {
     "end_time": "2020-07-14T13:06:41.641179Z",
     "start_time": "2020-07-14T13:06:41.349400Z"
    },
    "hidden": true
   },
   "outputs": [
    {
     "data": {
      "text/plain": [
       "<matplotlib.axes._subplots.AxesSubplot at 0x7fde74a9ea10>"
      ]
     },
     "execution_count": 30,
     "metadata": {},
     "output_type": "execute_result"
    },
    {
     "data": {
      "image/png": "[encoded data removed]",
      "text/plain": [
       "<Figure size 432x288 with 1 Axes>"
      ]
     },
     "metadata": {
      "needs_background": "light"
     },
     "output_type": "display_data"
    }
   ],
   "source": [
    "hist[\"train_loss\"].plot(ylim=(3.5,9.5), title=\"focus train loss\")"
   ]
  },
  {
   "cell_type": "code",
   "execution_count": 31,
   "metadata": {
    "ExecuteTime": {
     "end_time": "2020-07-14T13:06:42.001519Z",
     "start_time": "2020-07-14T13:06:41.643551Z"
    },
    "hidden": true
   },
   "outputs": [
    {
     "data": {
      "text/plain": [
       "<matplotlib.axes._subplots.AxesSubplot at 0x7fde74a40090>"
      ]
     },
     "execution_count": 31,
     "metadata": {},
     "output_type": "execute_result"
    },
    {
     "data": {
      "image/png": "[encoded data removed]",
      "text/plain": [
       "<Figure size 432x288 with 1 Axes>"
      ]
     },
     "metadata": {
      "needs_background": "light"
     },
     "output_type": "display_data"
    }
   ],
   "source": [
    "hist[\"test_loss\"].plot(ylim=(0,1), title=\"focus test loss\")"
   ]
  },
  {
   "cell_type": "code",
   "execution_count": 32,
   "metadata": {
    "ExecuteTime": {
     "end_time": "2020-07-14T13:06:42.663199Z",
     "start_time": "2020-07-14T13:06:42.015838Z"
    },
    "hidden": true
   },
   "outputs": [
    {
     "data": {
      "image/png": "[encoded data removed]",
      "text/plain": [
       "<Figure size 432x288 with 1 Axes>"
      ]
     },
     "metadata": {
      "needs_background": "light"
     },
     "output_type": "display_data"
    }
   ],
   "source": [
    "hist = pd.DataFrame(data={\"train_loss\": hist_train, \"test_loss\": hist_test})\n",
    "\n",
    "\n",
    "graph = hist.plot(title=\"train and test loss\")\n",
    "graph.figure.savefig(\"artifacts/loss_fig.png\")\n"
   ]
  },
  {
   "cell_type": "markdown",
   "metadata": {
    "heading_collapsed": true
   },
   "source": [
    "## 6. mlflow logging  <a id=\"mlflow\"></a>"
   ]
  },
  {
   "cell_type": "code",
   "execution_count": 51,
   "metadata": {
    "ExecuteTime": {
     "end_time": "2020-07-14T13:18:12.412135Z",
     "start_time": "2020-07-14T13:18:12.167967Z"
    },
    "hidden": true
   },
   "outputs": [],
   "source": [
    "with mlflow.start_run():\n",
    "    mlflow.log_param(\"model\", \"LSTM\")\n",
    "    mlflow.log_param(\"model_settings\", model.eval())\n",
    "\n",
    "#mlflow.pytorch.log_model(model, \"model\")\n",
    "    \n",
    "    mlflow.log_metric(\"epochs\", n_epochs)\n",
    "    \n",
    "    for epoch, loss_value in enumerate(hist_train):\n",
    "        mlflow.log_metric(\"loss_train\", loss_value, step=epoch)\n",
    "        \n",
    "    for epoch, loss_value in enumerate(hist_test):\n",
    "        mlflow.log_metric(\"loss_test\", loss_value, step=epoch)\n",
    "    \n",
    "    mlflow.log_metric(\"training_duration\", round(experiment_end - experiment_start, 2))\n",
    "\n",
    "    mlflow.log_artifact(\"./artifacts/loss_fig.png\")\n",
    "\n",
    "    mlflow.end_run()"
   ]
  },
  {
   "cell_type": "markdown",
   "metadata": {
    "heading_collapsed": true
   },
   "source": [
    "## 7. prediction <a id=\"pred\"></a>"
   ]
  },
  {
   "cell_type": "code",
   "execution_count": 34,
   "metadata": {
    "ExecuteTime": {
     "end_time": "2020-07-14T13:06:43.231567Z",
     "start_time": "2020-07-14T13:06:43.118915Z"
    },
    "hidden": true
   },
   "outputs": [],
   "source": [
    "\n",
    "with torch.no_grad():\n",
    "    \n",
    "    test_seq = x_test[:1]\n",
    "    preds = []\n",
    "    \n",
    "    for i in range(len(x_test)):\n",
    "        \n",
    "        y_test_pred = model(test_seq)\n",
    "        pred = torch.flatten(y_test_pred).item()\n",
    "        preds.append(pred)\n",
    "        \n",
    "        new_seq = test_seq.numpy().flatten()\n",
    "        new_seq = np.append(new_seq, [pred])\n",
    "        new_seq = new_seq[1:]\n",
    "        test_seq = torch.as_tensor(new_seq).view(1, time_steps, 1).float()\n",
    "        "
   ]
  },
  {
   "cell_type": "code",
   "execution_count": 35,
   "metadata": {
    "ExecuteTime": {
     "end_time": "2020-07-14T13:06:43.271044Z",
     "start_time": "2020-07-14T13:06:43.234873Z"
    },
    "hidden": true
   },
   "outputs": [],
   "source": [
    "deaths_true = scaler.inverse_transform(\n",
    "    np.expand_dims(y_test.flatten().numpy(), axis=0)\n",
    ").flatten()"
   ]
  },
  {
   "cell_type": "code",
   "execution_count": 36,
   "metadata": {
    "ExecuteTime": {
     "end_time": "2020-07-14T13:06:43.308082Z",
     "start_time": "2020-07-14T13:06:43.285471Z"
    },
    "hidden": true
   },
   "outputs": [],
   "source": [
    "deaths_pred = scaler.inverse_transform(\n",
    "    np.expand_dims(preds, axis=0)\n",
    ").flatten()"
   ]
  },
  {
   "cell_type": "code",
   "execution_count": 37,
   "metadata": {
    "ExecuteTime": {
     "end_time": "2020-07-14T13:06:43.324233Z",
     "start_time": "2020-07-14T13:06:43.315381Z"
    },
    "hidden": true
   },
   "outputs": [
    {
     "data": {
      "text/plain": [
       "array([62.89847168, 63.42853329, 63.63747197, 63.7223115 , 63.75118789,\n",
       "       63.75417872])"
      ]
     },
     "execution_count": 37,
     "metadata": {},
     "output_type": "execute_result"
    }
   ],
   "source": [
    "deaths_pred"
   ]
  },
  {
   "cell_type": "code",
   "execution_count": 38,
   "metadata": {
    "ExecuteTime": {
     "end_time": "2020-07-14T13:06:43.383017Z",
     "start_time": "2020-07-14T13:06:43.363791Z"
    },
    "hidden": true
   },
   "outputs": [
    {
     "data": {
      "text/plain": [
       "array([1.3999998e+01, 1.2000002e+01, 2.4999998e+01, 2.9999990e+00,\n",
       "       8.5681677e-08, 8.0000010e+00], dtype=float32)"
      ]
     },
     "execution_count": 38,
     "metadata": {},
     "output_type": "execute_result"
    }
   ],
   "source": [
    "deaths_true"
   ]
  },
  {
   "cell_type": "code",
   "execution_count": 39,
   "metadata": {
    "ExecuteTime": {
     "end_time": "2020-07-14T13:06:43.402313Z",
     "start_time": "2020-07-14T13:06:43.394158Z"
    },
    "hidden": true
   },
   "outputs": [],
   "source": [
    "vali_df = pd.DataFrame(data={\"deaths_pred\": deaths_pred, \"deaths_true\": deaths_true})"
   ]
  },
  {
   "cell_type": "code",
   "execution_count": 40,
   "metadata": {
    "ExecuteTime": {
     "end_time": "2020-07-14T13:06:43.854598Z",
     "start_time": "2020-07-14T13:06:43.409314Z"
    },
    "hidden": true
   },
   "outputs": [
    {
     "data": {
      "text/plain": [
       "<matplotlib.axes._subplots.AxesSubplot at 0x7fde76f85050>"
      ]
     },
     "execution_count": 40,
     "metadata": {},
     "output_type": "execute_result"
    },
    {
     "data": {
      "image/png": "[encoded data removed]",
      "text/plain": [
       "<Figure size 432x288 with 1 Axes>"
      ]
     },
     "metadata": {
      "needs_background": "light"
     },
     "output_type": "display_data"
    }
   ],
   "source": [
    "vali_df.plot()"
   ]
  },
  {
   "cell_type": "code",
   "execution_count": 41,
   "metadata": {
    "ExecuteTime": {
     "end_time": "2020-07-14T13:06:44.713398Z",
     "start_time": "2020-07-14T13:06:43.859217Z"
    },
    "hidden": true
   },
   "outputs": [
    {
     "data": {
      "image/png": "[encoded data removed]",
      "text/plain": [
       "<Figure size 432x288 with 1 Axes>"
      ]
     },
     "metadata": {
      "needs_background": "light"
     },
     "output_type": "display_data"
    }
   ],
   "source": [
    "vali_df.plot().figure.savefig(\"artifacts/test.pdf\")"
   ]
  },
  {
   "cell_type": "code",
   "execution_count": null,
   "metadata": {
    "hidden": true
   },
   "outputs": [],
   "source": []
  }
 ],
 "metadata": {
  "kernelspec": {
   "display_name": "Python [conda env:prognos]",
   "language": "python",
   "name": "conda-env-prognos-py"
  },
  "language_info": {
   "codemirror_mode": {
    "name": "ipython",
    "version": 3
   },
   "file_extension": ".py",
   "mimetype": "text/x-python",
   "name": "python",
   "nbconvert_exporter": "python",
   "pygments_lexer": "ipython3",
   "version": "3.7.7"
  }
 },
 "nbformat": 4,
 "nbformat_minor": 4
}
